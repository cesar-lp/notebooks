{
 "cells": [
  {
   "cell_type": "markdown",
   "metadata": {},
   "source": [
    "## Libraries"
   ]
  },
  {
   "cell_type": "code",
   "execution_count": 1,
   "metadata": {},
   "outputs": [],
   "source": [
    "import matplotlib.pyplot as plt\n",
    "import numpy as np\n",
    "import sys\n",
    "import torch\n",
    "\n",
    "from io import BytesIO\n",
    "from random import randrange\n",
    "from subprocess import call\n",
    "from torch import nn, optim\n",
    "from torch.nn import functional as F\n",
    "from torch.utils.data import DataLoader\n",
    "from torch.optim.lr_scheduler import StepLR\n",
    "from torchvision import datasets, transforms\n",
    "from torchvision.transforms import RandomHorizontalFlip, ToTensor, Normalize\n",
    "from urllib.request import urlopen, Request\n",
    "from PIL import Image"
   ]
  },
  {
   "cell_type": "markdown",
   "metadata": {},
   "source": [
    "## Hyperparameters"
   ]
  },
  {
   "cell_type": "code",
   "execution_count": 2,
   "metadata": {},
   "outputs": [],
   "source": [
    "batch_size = 64\n",
    "epochs = 10\n",
    "learning_rate = 0.3\n",
    "device = torch.device(\"cuda\" if torch.cuda.is_available() else \"cpu\")"
   ]
  },
  {
   "cell_type": "markdown",
   "metadata": {},
   "source": [
    "## Train & Validation data"
   ]
  },
  {
   "cell_type": "code",
   "execution_count": 3,
   "metadata": {},
   "outputs": [],
   "source": [
    "train_transf = transforms.Compose([RandomHorizontalFlip(), ToTensor(), Normalize((0.1307,), (0.3081,))])\n",
    "val_transf = transforms.Compose([ToTensor(), Normalize((0.1307,), (0.3081,))])\n",
    "\n",
    "train_set = datasets.MNIST(root='./data', train=True, download=True, transform = train_transf);\n",
    "validation_set = datasets.MNIST(root='./data', train=False, download=True, transform=val_transf);\n",
    "\n",
    "train_loader = DataLoader(dataset=train_set, batch_size=batch_size, shuffle=True)\n",
    "validation_loader = DataLoader(dataset=validation_set, batch_size=batch_size, shuffle=True)"
   ]
  },
  {
   "cell_type": "markdown",
   "metadata": {},
   "source": [
    "## Dataset info"
   ]
  },
  {
   "cell_type": "code",
   "execution_count": 4,
   "metadata": {},
   "outputs": [
    {
     "name": "stdout",
     "output_type": "stream",
     "text": [
      "Train examples: 60000\n",
      "Validation examples: 10000\n",
      "\n",
      "Batch info\n",
      " Images: torch.Size([64, 1, 28, 28]) - Labels: torch.Size([64])\n"
     ]
    },
    {
     "data": {
      "text/plain": [
       "<matplotlib.image.AxesImage at 0x7f8c07204ca0>"
      ]
     },
     "execution_count": 4,
     "metadata": {},
     "output_type": "execute_result"
    },
    {
     "data": {
      "image/png": "[encoded data removed]",
      "text/plain": [
       "<Figure size 432x288 with 1 Axes>"
      ]
     },
     "metadata": {
      "needs_background": "light"
     },
     "output_type": "display_data"
    }
   ],
   "source": [
    "print(f'Train examples: {len(train_set)}\\nValidation examples: {len(validation_set)}\\n')\n",
    "\n",
    "images, labels = iter(train_loader).next()\n",
    "\n",
    "print(f'Batch info\\n Images: {images.shape} - Labels: {labels.shape}')\n",
    "plt.imshow(images[0][0,:,:], cmap='gray_r')"
   ]
  },
  {
   "cell_type": "markdown",
   "metadata": {},
   "source": [
    "## Model"
   ]
  },
  {
   "cell_type": "code",
   "execution_count": 5,
   "metadata": {},
   "outputs": [],
   "source": [
    "class NeuralNetwork(nn.Module):\n",
    "    def __init__(self):\n",
    "        super(NeuralNetwork, self).__init__()\n",
    "        self.conv1 = nn.Conv2d(1, 16, 3, 1)\n",
    "        self.conv2 = nn.Conv2d(16, 32, 3, 1)\n",
    "        self.dropout = nn.Dropout(0.5)\n",
    "        self.fc1 = nn.Linear(4608, 2304)\n",
    "        self.fc2 = nn.Linear(2304, 10)\n",
    "\n",
    "    def forward(self, x):\n",
    "        x = F.relu(self.conv1(x))        \n",
    "        x = F.relu(self.conv2(x))\n",
    "        \n",
    "        x = F.max_pool2d(x, 2)\n",
    "        x = torch.flatten(x, 1)\n",
    "        \n",
    "        x = F.relu(self.fc1(x))\n",
    "        x = self.dropout(x)\n",
    "        \n",
    "        x = self.fc2(x)\n",
    "        return F.log_softmax(x, dim=1)"
   ]
  },
  {
   "cell_type": "markdown",
   "metadata": {},
   "source": [
    "## Train function"
   ]
  },
  {
   "cell_type": "code",
   "execution_count": 6,
   "metadata": {},
   "outputs": [],
   "source": [
    "def train(model, optimizer):    \n",
    "    train_loss = 0    \n",
    "    \n",
    "    model.train()\n",
    "\n",
    "    for batch_idx, (data, target) in enumerate(train_loader):\n",
    "        optimizer.zero_grad()\n",
    "        \n",
    "        data, target = data.to(device), target.to(device)        \n",
    "        output = model(data)        \n",
    "        loss = F.nll_loss(output, target)        \n",
    "        loss.backward()        \n",
    "        optimizer.step()\n",
    "        \n",
    "        train_loss += loss.item()    \n",
    "\n",
    "    train_loss /= len(train_loader.dataset)\n",
    "    train_losses.append(train_loss)\n",
    "    \n",
    "    torch.save(model.state_dict(), './checkpoints/handwritten_digit_classifier_model.pth')\n",
    "    torch.save(optimizer.state_dict(), './checkpoints/handwritten_digit_classifier_optimizer.pth')\n",
    "        \n",
    "    print(f'Trained - Average loss: {train_loss:.4f}')        "
   ]
  },
  {
   "cell_type": "markdown",
   "metadata": {},
   "source": [
    "## Validation function"
   ]
  },
  {
   "cell_type": "code",
   "execution_count": 7,
   "metadata": {},
   "outputs": [],
   "source": [
    "def test(model):\n",
    "    validation_loss = 0\n",
    "    correct = 0\n",
    "    \n",
    "    model.eval()\n",
    "    \n",
    "    with torch.no_grad():\n",
    "        for data, target in validation_loader:\n",
    "            data, target = data.to(device), target.to(device)\n",
    "            \n",
    "            output = model(data)            \n",
    "            \n",
    "            validation_loss += F.nll_loss(output, target, reduction='sum').item() # sum up batch loss\n",
    "            pred = output.argmax(dim=1, keepdim=True)  # get the index of the max log-probability\n",
    "            correct += pred.eq(target.view_as(pred)).sum().item()            \n",
    "\n",
    "    validation_loss /= len(validation_loader.dataset)\n",
    "    validation_losses.append(validation_loss)    \n",
    "    accuracy = correct * 100 / len(validation_loader.dataset)\n",
    "\n",
    "    print(f'Validated - Average loss: {validation_loss:.4f} - Accuracy: {accuracy:.0f}%\\n')"
   ]
  },
  {
   "cell_type": "markdown",
   "metadata": {},
   "source": [
    "## Helper functions"
   ]
  },
  {
   "cell_type": "code",
   "execution_count": 8,
   "metadata": {},
   "outputs": [],
   "source": [
    "def print_summary():\n",
    "    print(f'Python: {sys.version}\\n PyTorch: {torch.__version__}\\n CUDNN: {torch.backends.cudnn.version()}')\n",
    "    print(f'Device: {device} - Epochs: {epochs} - Initial learning rate: {learning_rate} - Batch size: {batch_size}\\n')"
   ]
  },
  {
   "cell_type": "code",
   "execution_count": 9,
   "metadata": {},
   "outputs": [],
   "source": [
    "def plot_losses():\n",
    "    x = list(range(1, epochs + 1))\n",
    "    \n",
    "    plt.plot(x, train_losses, color='black')\n",
    "    plt.plot(x, validation_losses, color='green')\n",
    "    plt.legend(['train', 'validation'], loc='upper right')\n",
    "    plt.xlim(0, epochs)\n",
    "    plt.ylim(0, max(max(train_losses), max(validation_losses)))\n",
    "    \n",
    "    plt.xticks(range(0, epochs))\n",
    "    \n",
    "    plt.xlabel('epochs')\n",
    "    plt.ylabel('loss')\n",
    "    plt.show()"
   ]
  },
  {
   "cell_type": "code",
   "execution_count": 10,
   "metadata": {},
   "outputs": [],
   "source": [
    "def download_img(img_url):    \n",
    "    req = Request(url=img_url, headers={'User-Agent': 'Mozilla/5.0'})\n",
    "    res = urlopen(req)\n",
    "    image = Image.open(BytesIO(res.read())).convert(\"L\")\n",
    "    image = image.resize((28, 28))\n",
    "    return image"
   ]
  },
  {
   "cell_type": "code",
   "execution_count": 11,
   "metadata": {},
   "outputs": [],
   "source": [
    "def display_web_img(image):\n",
    "    arr = np.asarray(image)\n",
    "    plt.imshow(arr, cmap='gray_r', vmin=0, vmax=255)\n",
    "    plt.show()"
   ]
  },
  {
   "cell_type": "code",
   "execution_count": 12,
   "metadata": {},
   "outputs": [],
   "source": [
    "def evaluate_web_image(model, image):\n",
    "    image = (255 - np.expand_dims(np.array(image), -1))/255.0\n",
    "    \n",
    "    model.eval()\n",
    "    \n",
    "    with torch.no_grad():\n",
    "        T = transforms.Compose([ToTensor()])\n",
    "        output = model(torch.unsqueeze(T(image), axis=0).float().to(device))\n",
    "        return F.softmax(output, dim=-1).cpu().numpy()"
   ]
  },
  {
   "cell_type": "markdown",
   "metadata": {},
   "source": [
    "## Training"
   ]
  },
  {
   "cell_type": "code",
   "execution_count": 13,
   "metadata": {},
   "outputs": [
    {
     "name": "stdout",
     "output_type": "stream",
     "text": [
      "Python: 3.8.5 (default, Sep  4 2020, 07:30:14) \n",
      "[GCC 7.3.0]\n",
      " PyTorch: 1.7.1\n",
      " CUDNN: 7605\n",
      "Device: cuda - Epochs: 10 - Initial learning rate: 0.3 - Batch size: 64\n",
      "\n",
      "Epoch 01/10\n",
      "Trained - Average loss: 0.0042\n",
      "Validated - Average loss: 0.0848 - Accuracy: 97%\n",
      "\n",
      "Epoch 02/10\n",
      "Trained - Average loss: 0.0014\n",
      "Validated - Average loss: 0.0635 - Accuracy: 98%\n",
      "\n",
      "Epoch 03/10\n",
      "Trained - Average loss: 0.0010\n",
      "Validated - Average loss: 0.0457 - Accuracy: 98%\n",
      "\n",
      "Epoch 04/10\n",
      "Trained - Average loss: 0.0008\n",
      "Validated - Average loss: 0.0486 - Accuracy: 98%\n",
      "\n",
      "Epoch 05/10\n",
      "Trained - Average loss: 0.0006\n",
      "Validated - Average loss: 0.0402 - Accuracy: 99%\n",
      "\n",
      "Epoch 06/10\n",
      "Trained - Average loss: 0.0006\n",
      "Validated - Average loss: 0.0430 - Accuracy: 99%\n",
      "\n",
      "Epoch 07/10\n",
      "Trained - Average loss: 0.0005\n",
      "Validated - Average loss: 0.0426 - Accuracy: 99%\n",
      "\n",
      "Epoch 08/10\n",
      "Trained - Average loss: 0.0004\n",
      "Validated - Average loss: 0.0353 - Accuracy: 99%\n",
      "\n",
      "Epoch 09/10\n",
      "Trained - Average loss: 0.0004\n",
      "Validated - Average loss: 0.0408 - Accuracy: 99%\n",
      "\n",
      "Epoch 10/10\n",
      "Trained - Average loss: 0.0003\n",
      "Validated - Average loss: 0.0369 - Accuracy: 99%\n",
      "\n"
     ]
    }
   ],
   "source": [
    "model = NeuralNetwork().to(device)\n",
    "\n",
    "train_losses = []\n",
    "validation_losses = []\n",
    "\n",
    "optimizer = optim.Adadelta(model.parameters(), lr=learning_rate)\n",
    "scheduler = StepLR(optimizer, step_size=30)\n",
    "\n",
    "print_summary()\n",
    "\n",
    "for epoch in range(1, epochs + 1):\n",
    "    print(f'Epoch {epoch:02d}/{epochs}')\n",
    "    train(model, optimizer)\n",
    "    test(model)\n",
    "    scheduler.step()"
   ]
  },
  {
   "cell_type": "code",
   "execution_count": 14,
   "metadata": {},
   "outputs": [
    {
     "data": {
      "image/png": "[encoded data removed]",
      "text/plain": [
       "<Figure size 432x288 with 1 Axes>"
      ]
     },
     "metadata": {
      "needs_background": "light"
     },
     "output_type": "display_data"
    }
   ],
   "source": [
    "plot_losses()"
   ]
  },
  {
   "cell_type": "markdown",
   "metadata": {},
   "source": [
    "## Evaluating example"
   ]
  },
  {
   "cell_type": "code",
   "execution_count": 15,
   "metadata": {},
   "outputs": [
    {
     "data": {
      "image/png": "[encoded data removed]",
      "text/plain": [
       "<Figure size 432x288 with 1 Axes>"
      ]
     },
     "metadata": {
      "needs_background": "light"
     },
     "output_type": "display_data"
    }
   ],
   "source": [
    "img_url = \"https://st.depositphotos.com/1427101/3416/i/600/depositphotos_34164603-stock-photo-natural-grass-number-5.jpg\"\n",
    "image = download_img(img_url)\n",
    "display_web_img(image)"
   ]
  },
  {
   "cell_type": "code",
   "execution_count": 16,
   "metadata": {},
   "outputs": [
    {
     "name": "stdout",
     "output_type": "stream",
     "text": [
      "0: 5.05%\n",
      "1: 5.49%\n",
      "2: 11.70%\n",
      "3: 6.73%\n",
      "4: 3.47%\n",
      "5: 45.94%\n",
      "6: 4.93%\n",
      "7: 4.46%\n",
      "8: 5.05%\n",
      "9: 7.18%\n",
      "\n",
      "Highest prediction: 5 - Probability: 45.94%\n"
     ]
    }
   ],
   "source": [
    "pred = evaluate_web_image(model, image)\n",
    "pred_idx = np.argmax(pred)\n",
    "\n",
    "[print(f'{i}: {pred[0][i] * 100:.2f}%') for i in range(10)]\n",
    "print(f'\\nHighest prediction: {pred_idx} - Probability: {pred[0][pred_idx] * 100:.2f}%')"
   ]
  }
 ],
 "metadata": {
  "kernelspec": {
   "display_name": "Python 3",
   "language": "python",
   "name": "python3"
  },
  "language_info": {
   "codemirror_mode": {
    "name": "ipython",
    "version": 3
   },
   "file_extension": ".py",
   "mimetype": "text/x-python",
   "name": "python",
   "nbconvert_exporter": "python",
   "pygments_lexer": "ipython3",
   "version": "3.8.5"
  }
 },
 "nbformat": 4,
 "nbformat_minor": 2
}
